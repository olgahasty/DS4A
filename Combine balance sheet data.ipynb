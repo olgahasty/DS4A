{
 "cells": [
  {
   "cell_type": "code",
   "execution_count": 1,
   "id": "3d3c0746",
   "metadata": {},
   "outputs": [
    {
     "name": "stdout",
     "output_type": "stream",
     "text": [
      "Empty file: fin_data\\fin_data_20230630.csv\n",
      "All files combined and filtered successfully.\n"
     ]
    }
   ],
   "source": [
    "import os\n",
    "import pandas as pd\n",
    "\n",
    "quarter_dates_file = \"quarter_end_dates.csv\"\n",
    "output_file = \"balance_sheet_data.csv\"\n",
    "input_directory = \"fin_data\"\n",
    "bank_master_list_file = \"bank_master_list.csv\"\n",
    "\n",
    "# Read the quarter end dates from the \"quarter_end_dates.csv\" file\n",
    "quarter_dates_df = pd.read_csv(quarter_dates_file)\n",
    "quarter_dates = quarter_dates_df[\"quarter_end_date\"].tolist()\n",
    "\n",
    "# Read the master bank list\n",
    "bank_master_list_df = pd.read_csv(bank_master_list_file)\n",
    "\n",
    "# Initialize an empty list to store DataFrames\n",
    "dataframes = []\n",
    "\n",
    "# Loop through each quarter end date\n",
    "for date in quarter_dates:\n",
    "    file_path = os.path.join(input_directory, f\"fin_data_{date}.csv\")\n",
    "\n",
    "    # Check if the file is empty\n",
    "    if os.path.getsize(file_path) == 0:\n",
    "        print(f\"Empty file: {file_path}\")\n",
    "        continue\n",
    "\n",
    "    # Read the file as a DataFrame and append it to the list\n",
    "    df = pd.read_csv(file_path)\n",
    "    df[\"quarter_id\"] = quarter_dates_df.loc[quarter_dates_df[\"quarter_end_date\"] == date, \"quarter_id\"].iloc[0]\n",
    "    dataframes.append(df)\n",
    "\n",
    "# Concatenate all DataFrames into one\n",
    "combined_data = pd.concat(dataframes, ignore_index=True)\n",
    "\n",
    "# Filter the combined data based on matching NAMEFULL in the master bank list\n",
    "filtered_data = combined_data.merge(bank_master_list_df, on=\"NAMEFULL\", how=\"inner\")\n",
    "\n",
    "# Save the filtered data to the output file\n",
    "filtered_data.to_csv(output_file, index=False)\n",
    "\n",
    "print(\"All files combined and filtered successfully.\")\n"
   ]
  },
  {
   "cell_type": "code",
   "execution_count": null,
   "id": "cc0f097c",
   "metadata": {},
   "outputs": [],
   "source": []
  }
 ],
 "metadata": {
  "kernelspec": {
   "display_name": "Python 3 (ipykernel)",
   "language": "python",
   "name": "python3"
  },
  "language_info": {
   "codemirror_mode": {
    "name": "ipython",
    "version": 3
   },
   "file_extension": ".py",
   "mimetype": "text/x-python",
   "name": "python",
   "nbconvert_exporter": "python",
   "pygments_lexer": "ipython3",
   "version": "3.10.9"
  }
 },
 "nbformat": 4,
 "nbformat_minor": 5
}
