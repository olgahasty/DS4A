{
 "cells": [
  {
   "cell_type": "code",
   "execution_count": 12,
   "id": "fdb922c5",
   "metadata": {},
   "outputs": [
    {
     "name": "stdout",
     "output_type": "stream",
     "text": [
      "Downloaded fin_data_20170331.csv\n",
      "Downloaded fin_data_20170630.csv\n",
      "Downloaded fin_data_20170930.csv\n",
      "Downloaded fin_data_20171231.csv\n",
      "Downloaded fin_data_20180331.csv\n",
      "Downloaded fin_data_20180630.csv\n",
      "Downloaded fin_data_20180930.csv\n",
      "Downloaded fin_data_20181231.csv\n",
      "Downloaded fin_data_20190331.csv\n",
      "Downloaded fin_data_20190630.csv\n",
      "Downloaded fin_data_20190930.csv\n",
      "Downloaded fin_data_20191231.csv\n",
      "Downloaded fin_data_20200331.csv\n",
      "Downloaded fin_data_20200630.csv\n",
      "Downloaded fin_data_20200930.csv\n",
      "Downloaded fin_data_20201231.csv\n",
      "Downloaded fin_data_20210331.csv\n",
      "Downloaded fin_data_20210630.csv\n",
      "Downloaded fin_data_20210930.csv\n",
      "Downloaded fin_data_20211231.csv\n",
      "Downloaded fin_data_20220331.csv\n",
      "Downloaded fin_data_20220630.csv\n",
      "Downloaded fin_data_20220930.csv\n",
      "Downloaded fin_data_20221231.csv\n",
      "Downloaded fin_data_20230331.csv\n",
      "Downloaded fin_data_20230630.csv\n",
      "Done!\n"
     ]
    }
   ],
   "source": [
    "import os\n",
    "import csv\n",
    "import requests\n",
    "\n",
    "\n",
    "url_template = \"\"\"https://banks.data.fdic.gov/api/financials?filters=!(BKCLASS:NC) AND REPDTE:YYYYMMDD&fields=CERT,RSSDHCR,NAMEFULL,CITY,STALP,ZIP,REPDTE,\n",
    "                BKCLASS,NAMEHCR,ADDNONII,ALLOTHL,AOA,ASSET,BRO,BROINS,CD1T3,CD1T3S,CD3LES,CD3LESS,CD3T12,\n",
    "                CD3T12S,CDOV3,CDOV3S,CHBAL,CHBALI,CHBALNI,CITY,COUNTY,DATEUPDT,DEP,DEPCSBQ,DEPCSBQR,DEPDASTR,\n",
    "                DEPFOR,DEPINS,DEPLGAMT,DRDEP,EDEPDOM,EDEPFOR,EEFFR,EFREPP,EINTEXP,EQCS,EQPP,EQTOT,FREPO,FREPP,\n",
    "                IBEFXTR,ICHBAL,IFREPO,IGLCREX,IGLEDEX,IGLEDEXQ,IGLRTEX,IGLSEC,INTINC,ISC,LIAB,NIM,NIMQ,NOIJ,\n",
    "                NONII,NONIX,NTRFCFG,NTRTMLGJ,NTRTMMED,OBSDIR,SCHA,SCUS,SCUST,STATNOTES,STATUS,\n",
    "                DEPINSR,IDT1RWAJR,LNLSFOR,LNLSGR,LNLSGR5,LNLSGRR,\n",
    "                NIMY,NTRTMLGJR,OFFDOM,RBC1RWAJ,RBCRWAJ,RBCT1J,RBCT1JR,RBCT2,RBCT2R,ROA,ROE,\n",
    "                RWAJT,RWAJTR,SC,SCAF,SCEQ,SCNM1T3,SCNM3LES,SCNM3T12,SCNM3T5,SCNM5T15,SCNMOV15,\n",
    "                SCPLEDGE,SCRDEBT,TSR,TTL,TTMA,TTNANUM,TTNMA,TTNMNUM\n",
    "                &sort_by=REPDTE&sort_order=DESC&limit=10000&offset=0&format=csv&download=true&filen\"\"\"\n",
    "\n",
    "\n",
    "file_path = \"quarter_end_dates.csv\"\n",
    "output_directory = \"fin_data\"\n",
    "\n",
    "# Create the output directory if it doesn't exist\n",
    "os.makedirs(output_directory, exist_ok=True)\n",
    "\n",
    "with open(file_path, \"r\") as csv_file:\n",
    "    reader = csv.DictReader(csv_file)\n",
    "    for row in reader:\n",
    "        date = row[\"quarter_end_date\"]\n",
    "        #formatted_date = date.replace(\"-\", \"\")\n",
    "        url = url_template.replace(\"YYYYMMDD\", date)\n",
    "        file_name = f\"fin_data_{date}.csv\"\n",
    "        output_path = os.path.join(output_directory, file_name)\n",
    "\n",
    "        response = requests.get(url)\n",
    "        if response.status_code == 200:\n",
    "            with open(output_path, \"wb\") as output_file:\n",
    "                output_file.write(response.content)\n",
    "                print(f\"Downloaded {file_name}\")\n",
    "        else:\n",
    "            print(f\"Failed to download {file_name}\")\n",
    "\n",
    "print(\"Done!\")"
   ]
  },
  {
   "cell_type": "code",
   "execution_count": null,
   "id": "25027e56",
   "metadata": {},
   "outputs": [],
   "source": []
  }
 ],
 "metadata": {
  "kernelspec": {
   "display_name": "Python 3 (ipykernel)",
   "language": "python",
   "name": "python3"
  },
  "language_info": {
   "codemirror_mode": {
    "name": "ipython",
    "version": 3
   },
   "file_extension": ".py",
   "mimetype": "text/x-python",
   "name": "python",
   "nbconvert_exporter": "python",
   "pygments_lexer": "ipython3",
   "version": "3.10.9"
  }
 },
 "nbformat": 4,
 "nbformat_minor": 5
}
