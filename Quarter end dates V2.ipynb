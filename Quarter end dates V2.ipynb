{
 "cells": [
  {
   "cell_type": "code",
   "execution_count": 2,
   "id": "5f42629d",
   "metadata": {},
   "outputs": [
    {
     "name": "stdout",
     "output_type": "stream",
     "text": [
      "Done!\n"
     ]
    }
   ],
   "source": [
    "import pandas as pd\n",
    "import datetime\n",
    "\n",
    "# Function to create a list of quarter IDs in \"YYYY-QQ\" format with corresponding quarter last days\n",
    "def get_quarter_end_dates(start_year, current_date):\n",
    "    quarter_end_dates = []\n",
    "\n",
    "    for year in range(start_year, current_date.year + 1):\n",
    "        for quarter in [1, 2, 3, 4]:\n",
    "            month = [3, 6, 9, 12][quarter - 1]\n",
    "            last_day = pd.Timestamp(year=year, month=month, day=1) + pd.offsets.QuarterEnd()\n",
    "            \n",
    "            if last_day.date() <= current_date:\n",
    "                formatted_date = last_day.date().strftime(\"%Y%m%d\")\n",
    "                quarter_end_dates.append([f\"{year}-{quarter:02d}\", formatted_date])\n",
    "            else:\n",
    "                return quarter_end_dates           \n",
    "\n",
    "    return quarter_end_dates\n",
    "\n",
    "# Modify start year as needed\n",
    "start_year = 2017\n",
    "current_date = datetime.date.today()\n",
    "quarter_end_dates = get_quarter_end_dates(start_year, current_date)\n",
    "\n",
    "# Create a DataFrame\n",
    "df = pd.DataFrame(quarter_end_dates, columns=[\"quarter_id\", \"quarter_end_date\"])\n",
    "\n",
    "# Save the DataFrame to a CSV file\n",
    "csv_filename = \"quarter_end_dates.csv\"\n",
    "df.to_csv(csv_filename, index=False)\n",
    "print(\"Done!\")"
   ]
  },
  {
   "cell_type": "code",
   "execution_count": null,
   "id": "fa40d3dc",
   "metadata": {},
   "outputs": [],
   "source": []
  }
 ],
 "metadata": {
  "kernelspec": {
   "display_name": "Python 3 (ipykernel)",
   "language": "python",
   "name": "python3"
  },
  "language_info": {
   "codemirror_mode": {
    "name": "ipython",
    "version": 3
   },
   "file_extension": ".py",
   "mimetype": "text/x-python",
   "name": "python",
   "nbconvert_exporter": "python",
   "pygments_lexer": "ipython3",
   "version": "3.10.9"
  }
 },
 "nbformat": 4,
 "nbformat_minor": 5
}
